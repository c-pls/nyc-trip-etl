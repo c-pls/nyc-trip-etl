{
 "cells": [
  {
   "cell_type": "code",
   "execution_count": 1,
   "metadata": {},
   "outputs": [],
   "source": [
    "from pyspark.sql import SparkSession\n",
    "from pyspark.sql.types import StructType, StructField, IntegerType, StringType"
   ]
  },
  {
   "cell_type": "code",
   "execution_count": 2,
   "metadata": {},
   "outputs": [
    {
     "name": "stderr",
     "output_type": "stream",
     "text": [
      "your 131072x1 screen size is bogus. expect trouble\n",
      "23/12/04 07:43:26 WARN Utils: Your hostname, cpPC resolves to a loopback address: 127.0.1.1; using 172.25.249.11 instead (on interface eth0)\n",
      "23/12/04 07:43:26 WARN Utils: Set SPARK_LOCAL_IP if you need to bind to another address\n",
      "23/12/04 07:43:36 WARN NativeCodeLoader: Unable to load native-hadoop library for your platform... using builtin-java classes where applicable\n",
      "Setting default log level to \"WARN\".\n",
      "To adjust logging level use sc.setLogLevel(newLevel). For SparkR, use setLogLevel(newLevel).\n"
     ]
    }
   ],
   "source": [
    "spark = (\n",
    "    SparkSession.builder.appName(\"Read S3 File\")\n",
    "    .master(\"spark://localhost:7077\")\n",
    "    .config(\n",
    "        \"spark.jars\",\n",
    "        \"/opt/bitnami/spark/jars/hadoop-aws-3.3.4.jar,/opt/bitnami/spark/jars/aws-java-sdk-bundle-1.12.262.jar\",\n",
    "    )\n",
    "    .getOrCreate()\n",
    ")"
   ]
  },
  {
   "cell_type": "code",
   "execution_count": 3,
   "metadata": {},
   "outputs": [],
   "source": [
    "spark.conf.set(\"spark.hadoop.fs.s3a.endpoint\", \"s3.amazonaws.com\")"
   ]
  },
  {
   "cell_type": "code",
   "execution_count": 4,
   "metadata": {},
   "outputs": [
    {
     "name": "stderr",
     "output_type": "stream",
     "text": [
      "[Stage 0:>                                                          (0 + 1) / 1]\r"
     ]
    },
    {
     "name": "stdout",
     "output_type": "stream",
     "text": [
      "+------+\n",
      "|number|\n",
      "+------+\n",
      "|     0|\n",
      "|     1|\n",
      "+------+\n",
      "only showing top 2 rows\n",
      "\n"
     ]
    },
    {
     "name": "stderr",
     "output_type": "stream",
     "text": [
      "                                                                                \r"
     ]
    }
   ],
   "source": [
    "df = spark.range(1000).toDF(\"number\")\n",
    "df.show(2)"
   ]
  },
  {
   "cell_type": "code",
   "execution_count": 5,
   "metadata": {},
   "outputs": [
    {
     "name": "stderr",
     "output_type": "stream",
     "text": [
      "23/12/04 07:43:44 WARN MetricsConfig: Cannot locate configuration: tried hadoop-metrics2-s3a-file-system.properties,hadoop-metrics2.properties\n",
      "                                                                                \r"
     ]
    }
   ],
   "source": [
    "# Read\n",
    "taxi_zone_df = (\n",
    "    spark.read.option(\"inferSchema\", \"true\")\n",
    "    .option(\"header\", \"true\")\n",
    "    .csv(\"s3a://de-666ne92p/tmp/taxi+_zone_lookup.csv\")\n",
    "    .cache()\n",
    ")"
   ]
  },
  {
   "cell_type": "code",
   "execution_count": 6,
   "metadata": {},
   "outputs": [
    {
     "name": "stdout",
     "output_type": "stream",
     "text": [
      "+----------+-------------+--------------------+------------+\n",
      "|LocationID|      Borough|                Zone|service_zone|\n",
      "+----------+-------------+--------------------+------------+\n",
      "|         1|          EWR|      Newark Airport|         EWR|\n",
      "|         2|       Queens|         Jamaica Bay|   Boro Zone|\n",
      "|         3|        Bronx|Allerton/Pelham G...|   Boro Zone|\n",
      "|         4|    Manhattan|       Alphabet City| Yellow Zone|\n",
      "|         5|Staten Island|       Arden Heights|   Boro Zone|\n",
      "+----------+-------------+--------------------+------------+\n",
      "only showing top 5 rows\n",
      "\n"
     ]
    }
   ],
   "source": [
    "taxi_zone_df.show(5)"
   ]
  },
  {
   "cell_type": "code",
   "execution_count": 7,
   "metadata": {},
   "outputs": [
    {
     "name": "stderr",
     "output_type": "stream",
     "text": [
      "                                                                                \r"
     ]
    }
   ],
   "source": [
    "date_dim_df = (\n",
    "    spark.read.option(\"inferSchema\", \"true\")\n",
    "    .option(\"header\", \"true\")\n",
    "    .csv(\"s3a://de-666ne92p/tmp/date_dim.csv\")\n",
    "    .cache()\n",
    ")"
   ]
  },
  {
   "cell_type": "code",
   "execution_count": 8,
   "metadata": {},
   "outputs": [
    {
     "name": "stderr",
     "output_type": "stream",
     "text": [
      "[Stage 6:>                                                          (0 + 1) / 1]\r"
     ]
    },
    {
     "name": "stdout",
     "output_type": "stream",
     "text": [
      "+--------+----------+-----------+--------+------------+-----------+------------+-----+----------+-------+----+----------+----------+----------+\n",
      "|date_key|      date|day_of_week|day_name|day_of_month|day_of_year|week_of_year|month|month_name|quarter|year|is_holiday|is_weekend|is_workday|\n",
      "+--------+----------+-----------+--------+------------+-----------+------------+-----+----------+-------+----+----------+----------+----------+\n",
      "|   10957|2000-01-01|          6|Saturday|          31|          1|          52|    1|   January|      1|2000|      true|      true|     false|\n",
      "|   10958|2000-01-02|          0|  Sunday|          31|          2|          52|    1|   January|      1|2000|     false|      true|     false|\n",
      "+--------+----------+-----------+--------+------------+-----------+------------+-----+----------+-------+----+----------+----------+----------+\n",
      "only showing top 2 rows\n",
      "\n"
     ]
    },
    {
     "name": "stderr",
     "output_type": "stream",
     "text": [
      "                                                                                \r"
     ]
    }
   ],
   "source": [
    "date_dim_df.show(2)"
   ]
  },
  {
   "cell_type": "code",
   "execution_count": 9,
   "metadata": {},
   "outputs": [],
   "source": [
    "def dimention_df():\n",
    "    def taxi_zone_df():\n",
    "        return (\n",
    "            spark.read.option(\"inferSchema\", \"true\")\n",
    "            .option(\"header\", \"true\")\n",
    "            .csv(\"s3a://de-666ne92p/tmp/taxi+_zone_lookup.csv\")\n",
    "            .cache()\n",
    "        )\n",
    "\n",
    "    def date_dim_df():\n",
    "        return (\n",
    "            spark.read.option(\"inferSchema\", \"true\")\n",
    "            .option(\"header\", \"true\")\n",
    "            .csv(\"s3a://de-666ne92p/tmp/date_dim.csv\")\n",
    "            .cache()\n",
    "        )\n",
    "\n",
    "    def vendor_df():\n",
    "        schema = StructType(\n",
    "            [\n",
    "                StructField(\"VENDOR_KEY\", IntegerType(), True),\n",
    "                StructField(\"VENDOR_ID\", IntegerType(), True),\n",
    "                StructField(\"VENDOR_NAME\", StringType(), True),\n",
    "            ]\n",
    "        )\n",
    "\n",
    "        # Your CSV-like data\n",
    "        data = [(1, 1, \"Creative Mobile Technologies, LLC\"),\n",
    "                (2, 2, \"VeriFone Inc.\")]\n",
    "\n",
    "        # Create a DataFrame\n",
    "        return spark.createDataFrame(data, schema=schema)\n",
    "\n",
    "    def trip_type_df():\n",
    "        schema = StructType(\n",
    "            [\n",
    "                StructField(\"TRIP_TYPE_KEY\", IntegerType(), True),\n",
    "                StructField(\"TRIP_TYPE_ID\", IntegerType(), True),\n",
    "                StructField(\"TRIP_TYPE_NAME\", StringType(), True),\n",
    "            ]\n",
    "        )\n",
    "\n",
    "        data = [(1, 1, \"Street-hail\"), (2, 2, \"Dispatch\")]\n",
    "\n",
    "        return spark.createDataFrame(data, schema=schema)\n",
    "\n",
    "    def rate_code_df():\n",
    "        schema = StructType(\n",
    "            [\n",
    "                StructField(\"RATE_CODE_KEY\", IntegerType(), True),\n",
    "                StructField(\"RATE_CODE_ID\", IntegerType(), True),\n",
    "                StructField(\"RATE_CODE_EFFECT\", StringType(), True),\n",
    "            ]\n",
    "        )\n",
    "\n",
    "        data = [\n",
    "            (1, 1, \"Standard rate\"),\n",
    "            (2, 2, \"JFK\"),\n",
    "            (3, 3, \"Newark\"),\n",
    "            (4, 4, \"Nassau or Westchester\"),\n",
    "            (5, 5, \"Negotiated fare\"),\n",
    "            (6, 6, \"Group ride\"),\n",
    "        ]\n",
    "\n",
    "        return spark.createDataFrame(data, schema=schema)\n",
    "\n",
    "    def payment_type_df():\n",
    "        schema = StructType(\n",
    "            [\n",
    "                StructField(\"PAYMENT_TYPE_KEY\", IntegerType(), True),\n",
    "                StructField(\"PAYMENT_TYPE_ID\", IntegerType(), True),\n",
    "                StructField(\"PAYMENT_TYPE_NAME\", StringType(), True),\n",
    "            ]\n",
    "        )\n",
    "\n",
    "        data = [\n",
    "            (1, 1, \"Credit card\"),\n",
    "            (2, 2, \"Cash\"),\n",
    "            (3, 3, \"No charge\"),\n",
    "            (4, 4, \"Dispute\"),\n",
    "            (5, 5, \"Unknown\"),\n",
    "            (6, 6, \"Voided trip\"),\n",
    "        ]\n",
    "\n",
    "        return spark.createDataFrame(data, schema=schema)\n",
    "\n",
    "    return (\n",
    "        taxi_zone_df(),\n",
    "        date_dim_df(),\n",
    "        vendor_df(),\n",
    "        trip_type_df(),\n",
    "        rate_code_df(),\n",
    "        payment_type_df(),\n",
    "    )"
   ]
  },
  {
   "cell_type": "code",
   "execution_count": 10,
   "metadata": {},
   "outputs": [
    {
     "name": "stderr",
     "output_type": "stream",
     "text": [
      "23/12/04 07:44:06 WARN CacheManager: Asked to cache already cached data.\n",
      "23/12/04 07:44:10 WARN CacheManager: Asked to cache already cached data.        \n"
     ]
    },
    {
     "name": "stdout",
     "output_type": "stream",
     "text": [
      "+----------+-------------+--------------------+------------+\n",
      "|LocationID|      Borough|                Zone|service_zone|\n",
      "+----------+-------------+--------------------+------------+\n",
      "|         1|          EWR|      Newark Airport|         EWR|\n",
      "|         2|       Queens|         Jamaica Bay|   Boro Zone|\n",
      "|         3|        Bronx|Allerton/Pelham G...|   Boro Zone|\n",
      "|         4|    Manhattan|       Alphabet City| Yellow Zone|\n",
      "|         5|Staten Island|       Arden Heights|   Boro Zone|\n",
      "+----------+-------------+--------------------+------------+\n",
      "only showing top 5 rows\n",
      "\n"
     ]
    }
   ],
   "source": [
    "(\n",
    "    taxi_zone_df,\n",
    "    date_dim_df,\n",
    "    vendor_df,\n",
    "    trip_type_df,\n",
    "    rate_code_df,\n",
    "    payment_type_df,\n",
    ") = dimention_df()\n",
    "\n",
    "taxi_zone_df.show(5)"
   ]
  },
  {
   "cell_type": "code",
   "execution_count": 11,
   "metadata": {},
   "outputs": [
    {
     "name": "stdout",
     "output_type": "stream",
     "text": [
      "+--------+----------+-----------+---------+------------+-----------+------------+-----+----------+-------+----+----------+----------+----------+\n",
      "|date_key|      date|day_of_week| day_name|day_of_month|day_of_year|week_of_year|month|month_name|quarter|year|is_holiday|is_weekend|is_workday|\n",
      "+--------+----------+-----------+---------+------------+-----------+------------+-----+----------+-------+----+----------+----------+----------+\n",
      "|   10957|2000-01-01|          6| Saturday|          31|          1|          52|    1|   January|      1|2000|      true|      true|     false|\n",
      "|   10958|2000-01-02|          0|   Sunday|          31|          2|          52|    1|   January|      1|2000|     false|      true|     false|\n",
      "|   10959|2000-01-03|          1|   Monday|          31|          3|           1|    1|   January|      1|2000|     false|     false|      true|\n",
      "|   10960|2000-01-04|          2|  Tuesday|          31|          4|           1|    1|   January|      1|2000|     false|     false|      true|\n",
      "|   10961|2000-01-05|          3|Wednesday|          31|          5|           1|    1|   January|      1|2000|     false|     false|      true|\n",
      "+--------+----------+-----------+---------+------------+-----------+------------+-----+----------+-------+----+----------+----------+----------+\n",
      "only showing top 5 rows\n",
      "\n"
     ]
    }
   ],
   "source": [
    "date_dim_df.show(5)"
   ]
  },
  {
   "cell_type": "code",
   "execution_count": 12,
   "metadata": {},
   "outputs": [
    {
     "name": "stderr",
     "output_type": "stream",
     "text": [
      "                                                                                \r"
     ]
    },
    {
     "name": "stdout",
     "output_type": "stream",
     "text": [
      "+----------+---------+--------------------+\n",
      "|VENDOR_KEY|VENDOR_ID|         VENDOR_NAME|\n",
      "+----------+---------+--------------------+\n",
      "|         1|        1|Creative Mobile T...|\n",
      "|         2|        2|       VeriFone Inc.|\n",
      "+----------+---------+--------------------+\n",
      "\n"
     ]
    }
   ],
   "source": [
    "vendor_df.show(5)"
   ]
  },
  {
   "cell_type": "code",
   "execution_count": 13,
   "metadata": {},
   "outputs": [
    {
     "name": "stdout",
     "output_type": "stream",
     "text": [
      "+-------------+------------+--------------+\n",
      "|TRIP_TYPE_KEY|TRIP_TYPE_ID|TRIP_TYPE_NAME|\n",
      "+-------------+------------+--------------+\n",
      "|            1|           1|   Street-hail|\n",
      "|            2|           2|      Dispatch|\n",
      "+-------------+------------+--------------+\n",
      "\n"
     ]
    }
   ],
   "source": [
    "trip_type_df.show(5)"
   ]
  },
  {
   "cell_type": "code",
   "execution_count": 14,
   "metadata": {},
   "outputs": [
    {
     "name": "stdout",
     "output_type": "stream",
     "text": [
      "+-------------+------------+--------------------+\n",
      "|RATE_CODE_KEY|RATE_CODE_ID|    RATE_CODE_EFFECT|\n",
      "+-------------+------------+--------------------+\n",
      "|            1|           1|       Standard rate|\n",
      "|            2|           2|                 JFK|\n",
      "|            3|           3|              Newark|\n",
      "|            4|           4|Nassau or Westche...|\n",
      "|            5|           5|     Negotiated fare|\n",
      "+-------------+------------+--------------------+\n",
      "only showing top 5 rows\n",
      "\n"
     ]
    }
   ],
   "source": [
    "rate_code_df.show(5)"
   ]
  },
  {
   "cell_type": "code",
   "execution_count": 15,
   "metadata": {},
   "outputs": [
    {
     "name": "stdout",
     "output_type": "stream",
     "text": [
      "+----------------+---------------+-----------------+\n",
      "|PAYMENT_TYPE_KEY|PAYMENT_TYPE_ID|PAYMENT_TYPE_NAME|\n",
      "+----------------+---------------+-----------------+\n",
      "|               1|              1|      Credit card|\n",
      "|               2|              2|             Cash|\n",
      "|               3|              3|        No charge|\n",
      "|               4|              4|          Dispute|\n",
      "|               5|              5|          Unknown|\n",
      "+----------------+---------------+-----------------+\n",
      "only showing top 5 rows\n",
      "\n"
     ]
    }
   ],
   "source": [
    "payment_type_df.show(5)"
   ]
  },
  {
   "cell_type": "code",
   "execution_count": 20,
   "metadata": {},
   "outputs": [
    {
     "name": "stderr",
     "output_type": "stream",
     "text": [
      "23/12/04 07:47:19 WARN CacheManager: Asked to cache already cached data.        \n"
     ]
    }
   ],
   "source": [
    "green_trip_data_df = (\n",
    "    spark.read.format(\"parquet\")\n",
    "    .load(\"s3a://de-666ne92p/tmp/green_tripdata_2023-01.parquet\")\n",
    "    .cache()\n",
    ")"
   ]
  },
  {
   "cell_type": "code",
   "execution_count": 21,
   "metadata": {},
   "outputs": [
    {
     "name": "stdout",
     "output_type": "stream",
     "text": [
      "+--------+--------------------+---------------------+------------------+----------+------------+------------+---------------+-------------+-----------+-----+-------+----------+------------+---------+---------------------+------------+------------+---------+--------------------+\n",
      "|VendorID|lpep_pickup_datetime|lpep_dropoff_datetime|store_and_fwd_flag|RatecodeID|PULocationID|DOLocationID|passenger_count|trip_distance|fare_amount|extra|mta_tax|tip_amount|tolls_amount|ehail_fee|improvement_surcharge|total_amount|payment_type|trip_type|congestion_surcharge|\n",
      "+--------+--------------------+---------------------+------------------+----------+------------+------------+---------------+-------------+-----------+-----+-------+----------+------------+---------+---------------------+------------+------------+---------+--------------------+\n",
      "|       2| 2023-01-01 00:26:10|  2023-01-01 00:37:11|                 N|       1.0|         166|         143|            1.0|         2.58|       14.9|  1.0|    0.5|      4.03|         0.0|     null|                  1.0|       24.18|         1.0|      1.0|                2.75|\n",
      "|       2| 2023-01-01 00:51:03|  2023-01-01 00:57:49|                 N|       1.0|          24|          43|            1.0|         1.81|       10.7|  1.0|    0.5|      2.64|         0.0|     null|                  1.0|       15.84|         1.0|      1.0|                 0.0|\n",
      "|       2| 2023-01-01 00:35:12|  2023-01-01 00:41:32|                 N|       1.0|         223|         179|            1.0|          0.0|        7.2|  1.0|    0.5|      1.94|         0.0|     null|                  1.0|       11.64|         1.0|      1.0|                 0.0|\n",
      "|       1| 2023-01-01 00:13:14|  2023-01-01 00:19:03|                 N|       1.0|          41|         238|            1.0|          1.3|        6.5|  0.5|    1.5|       1.7|         0.0|     null|                  1.0|        10.2|         1.0|      1.0|                 0.0|\n",
      "|       1| 2023-01-01 00:33:04|  2023-01-01 00:39:02|                 N|       1.0|          41|          74|            1.0|          1.1|        6.0|  0.5|    1.5|       0.0|         0.0|     null|                  1.0|         8.0|         1.0|      1.0|                 0.0|\n",
      "+--------+--------------------+---------------------+------------------+----------+------------+------------+---------------+-------------+-----------+-----+-------+----------+------------+---------+---------------------+------------+------------+---------+--------------------+\n",
      "only showing top 5 rows\n",
      "\n"
     ]
    }
   ],
   "source": [
    "green_trip_data_df.show(5)"
   ]
  },
  {
   "cell_type": "code",
   "execution_count": 22,
   "metadata": {},
   "outputs": [
    {
     "data": {
      "text/plain": [
       "68211"
      ]
     },
     "execution_count": 22,
     "metadata": {},
     "output_type": "execute_result"
    }
   ],
   "source": [
    "green_trip_data_df.count()"
   ]
  },
  {
   "cell_type": "code",
   "execution_count": 36,
   "metadata": {},
   "outputs": [
    {
     "name": "stdout",
     "output_type": "stream",
     "text": [
      "root\n",
      " |-- VENDORID: long (nullable = true)\n",
      " |-- LPEP_PICKUP_DATETIME: timestamp_ntz (nullable = true)\n",
      " |-- LPEP_DROPOFF_DATETIME: timestamp_ntz (nullable = true)\n",
      " |-- STORE_AND_FWD_FLAG: string (nullable = true)\n",
      " |-- RATECODEID: double (nullable = true)\n",
      " |-- PULOCATIONID: long (nullable = true)\n",
      " |-- DOLOCATIONID: long (nullable = true)\n",
      " |-- PASSENGER_COUNT: double (nullable = true)\n",
      " |-- TRIP_DISTANCE: double (nullable = true)\n",
      " |-- FARE_AMOUNT: double (nullable = true)\n",
      " |-- EXTRA: double (nullable = true)\n",
      " |-- MTA_TAX: double (nullable = true)\n",
      " |-- TIP_AMOUNT: double (nullable = true)\n",
      " |-- TOLLS_AMOUNT: double (nullable = true)\n",
      " |-- EHAIL_FEE: integer (nullable = true)\n",
      " |-- IMPROVEMENT_SURCHARGE: double (nullable = true)\n",
      " |-- TOTAL_AMOUNT: double (nullable = true)\n",
      " |-- PAYMENT_TYPE: double (nullable = true)\n",
      " |-- TRIP_TYPE: double (nullable = true)\n",
      " |-- CONGESTION_SURCHARGE: double (nullable = true)\n",
      "\n"
     ]
    }
   ],
   "source": [
    "# Uppercase colume name in green trip data\n",
    "for col_name in green_trip_data_df.columns:\n",
    "    green_trip_data_df = green_trip_data_df.withColumnRenamed(\n",
    "        col_name, col_name.upper()\n",
    "    )\n",
    "\n",
    "green_trip_data_df.printSchema()"
   ]
  },
  {
   "cell_type": "code",
   "execution_count": 41,
   "metadata": {},
   "outputs": [
    {
     "name": "stdout",
     "output_type": "stream",
     "text": [
      "+--------+--------------------+---------------------+------------------+----------+------------+------------+---------------+-------------+-----------+-----+-------+----------+------------+---------+---------------------+------------+------------+---------+--------------------+----------+---------+-------------+-------------+------------+--------------+-------------+------------+----------------+----------------+---------------+-----------------+----------+---------+--------------------+------------+----------+---------+--------------------+------------+--------+----------+-----------+--------+------------+-----------+------------+-----+----------+-------+----+----------+----------+----------+--------+----------+-----------+--------+------------+-----------+------------+-----+----------+-------+----+----------+----------+----------+\n",
      "|VENDORID|LPEP_PICKUP_DATETIME|LPEP_DROPOFF_DATETIME|STORE_AND_FWD_FLAG|RATECODEID|PULOCATIONID|DOLOCATIONID|PASSENGER_COUNT|TRIP_DISTANCE|FARE_AMOUNT|EXTRA|MTA_TAX|TIP_AMOUNT|TOLLS_AMOUNT|EHAIL_FEE|IMPROVEMENT_SURCHARGE|TOTAL_AMOUNT|PAYMENT_TYPE|TRIP_TYPE|CONGESTION_SURCHARGE|VENDOR_KEY|VENDOR_ID|  VENDOR_NAME|TRIP_TYPE_KEY|TRIP_TYPE_ID|TRIP_TYPE_NAME|RATE_CODE_KEY|RATE_CODE_ID|RATE_CODE_EFFECT|PAYMENT_TYPE_KEY|PAYMENT_TYPE_ID|PAYMENT_TYPE_NAME|LocationID|  Borough|                Zone|service_zone|LocationID|  Borough|                Zone|service_zone|date_key|      date|day_of_week|day_name|day_of_month|day_of_year|week_of_year|month|month_name|quarter|year|is_holiday|is_weekend|is_workday|date_key|      date|day_of_week|day_name|day_of_month|day_of_year|week_of_year|month|month_name|quarter|year|is_holiday|is_weekend|is_workday|\n",
      "+--------+--------------------+---------------------+------------------+----------+------------+------------+---------------+-------------+-----------+-----+-------+----------+------------+---------+---------------------+------------+------------+---------+--------------------+----------+---------+-------------+-------------+------------+--------------+-------------+------------+----------------+----------------+---------------+-----------------+----------+---------+--------------------+------------+----------+---------+--------------------+------------+--------+----------+-----------+--------+------------+-----------+------------+-----+----------+-------+----+----------+----------+----------+--------+----------+-----------+--------+------------+-----------+------------+-----+----------+-------+----+----------+----------+----------+\n",
      "|       2| 2023-01-31 23:00:12|  2023-01-31 23:10:08|                 N|       1.0|          95|          95|            1.0|         1.39|       11.4|  1.0|    0.5|      4.17|         0.0|     null|                  1.0|       18.07|         1.0|      1.0|                 0.0|         2|        2|VeriFone Inc.|            1|           1|   Street-hail|            1|           1|   Standard rate|               1|              1|      Credit card|        95|   Queens|        Forest Hills|   Boro Zone|        95|   Queens|        Forest Hills|   Boro Zone|   19388|2023-01-31|          2| Tuesday|          31|         31|           5|    1|   January|      1|2023|     false|     false|      true|   19388|2023-01-31|          2| Tuesday|          31|         31|           5|    1|   January|      1|2023|     false|     false|      true|\n",
      "|       2| 2023-01-31 23:29:18|  2023-01-31 23:38:50|                 N|       1.0|          74|         238|            1.0|         2.47|       13.5|  1.0|    0.5|      3.75|         0.0|     null|                  1.0|        22.5|         1.0|      1.0|                2.75|         2|        2|VeriFone Inc.|            1|           1|   Street-hail|            1|           1|   Standard rate|               1|              1|      Credit card|        74|Manhattan|   East Harlem North|   Boro Zone|       238|Manhattan|Upper West Side N...| Yellow Zone|   19388|2023-01-31|          2| Tuesday|          31|         31|           5|    1|   January|      1|2023|     false|     false|      true|   19388|2023-01-31|          2| Tuesday|          31|         31|           5|    1|   January|      1|2023|     false|     false|      true|\n",
      "|       2| 2023-01-31 23:17:03|  2023-01-31 23:23:04|                 N|       1.0|         244|         116|            1.0|          1.4|        9.3|  1.0|    0.5|      2.36|         0.0|     null|                  1.0|       14.16|         1.0|      1.0|                 0.0|         2|        2|VeriFone Inc.|            1|           1|   Street-hail|            1|           1|   Standard rate|               1|              1|      Credit card|       244|Manhattan|Washington Height...|   Boro Zone|       116|Manhattan|    Hamilton Heights|   Boro Zone|   19388|2023-01-31|          2| Tuesday|          31|         31|           5|    1|   January|      1|2023|     false|     false|      true|   19388|2023-01-31|          2| Tuesday|          31|         31|           5|    1|   January|      1|2023|     false|     false|      true|\n",
      "|       2| 2023-01-31 23:06:18|  2023-01-31 23:17:03|                 N|       1.0|          65|         181|            1.0|         2.44|       13.5|  1.0|    0.5|       3.2|         0.0|     null|                  1.0|        19.2|         1.0|      1.0|                 0.0|         2|        2|VeriFone Inc.|            1|           1|   Street-hail|            1|           1|   Standard rate|               1|              1|      Credit card|        65| Brooklyn|Downtown Brooklyn...|   Boro Zone|       181| Brooklyn|          Park Slope|   Boro Zone|   19388|2023-01-31|          2| Tuesday|          31|         31|           5|    1|   January|      1|2023|     false|     false|      true|   19388|2023-01-31|          2| Tuesday|          31|         31|           5|    1|   January|      1|2023|     false|     false|      true|\n",
      "|       2| 2023-01-31 23:29:10|  2023-01-31 23:38:21|                 N|       1.0|          74|         116|            3.0|          2.0|       12.1|  1.0|    0.5|      2.92|         0.0|     null|                  1.0|       17.52|         1.0|      1.0|                 0.0|         2|        2|VeriFone Inc.|            1|           1|   Street-hail|            1|           1|   Standard rate|               1|              1|      Credit card|        74|Manhattan|   East Harlem North|   Boro Zone|       116|Manhattan|    Hamilton Heights|   Boro Zone|   19388|2023-01-31|          2| Tuesday|          31|         31|           5|    1|   January|      1|2023|     false|     false|      true|   19388|2023-01-31|          2| Tuesday|          31|         31|           5|    1|   January|      1|2023|     false|     false|      true|\n",
      "+--------+--------------------+---------------------+------------------+----------+------------+------------+---------------+-------------+-----------+-----+-------+----------+------------+---------+---------------------+------------+------------+---------+--------------------+----------+---------+-------------+-------------+------------+--------------+-------------+------------+----------------+----------------+---------------+-----------------+----------+---------+--------------------+------------+----------+---------+--------------------+------------+--------+----------+-----------+--------+------------+-----------+------------+-----+----------+-------+----+----------+----------+----------+--------+----------+-----------+--------+------------+-----------+------------+-----+----------+-------+----+----------+----------+----------+\n",
      "only showing top 5 rows\n",
      "\n"
     ]
    },
    {
     "data": {
      "text/plain": [
       "63877"
      ]
     },
     "execution_count": 41,
     "metadata": {},
     "output_type": "execute_result"
    }
   ],
   "source": [
    "from pyspark.sql.functions import col, to_date  # noqa: E402\n",
    "\n",
    "fact_green_trip_data_df = (\n",
    "    green_trip_data_df.join(\n",
    "        vendor_df, green_trip_data_df[\"VENDORID\"] == vendor_df[\"VENDOR_ID\"], \"inner\"\n",
    "    )\n",
    "    .join(\n",
    "        trip_type_df,\n",
    "        green_trip_data_df[\"TRIP_TYPE\"] == trip_type_df[\"TRIP_TYPE_ID\"],\n",
    "        \"inner\",\n",
    "    )\n",
    "    .join(\n",
    "        rate_code_df,\n",
    "        green_trip_data_df[\"RATECODEID\"] == rate_code_df[\"RATE_CODE_ID\"],\n",
    "        \"inner\",\n",
    "    )\n",
    "    .join(\n",
    "        payment_type_df,\n",
    "        green_trip_data_df[\"PAYMENT_TYPE\"] == payment_type_df[\"PAYMENT_TYPE_ID\"],\n",
    "        \"inner\",\n",
    "    )\n",
    "    .join(\n",
    "        taxi_zone_df.alias(\"taxi_zone_df_pu\"),\n",
    "        green_trip_data_df[\"PULOCATIONID\"] == col(\n",
    "            \"taxi_zone_df_pu.LOCATIONID\"),\n",
    "        \"inner\",\n",
    "    )\n",
    "    .join(\n",
    "        taxi_zone_df.alias(\"taxi_zone_df_do\"),\n",
    "        green_trip_data_df[\"DOLOCATIONID\"] == col(\n",
    "            \"taxi_zone_df_do.LOCATIONID\"),\n",
    "        \"inner\",\n",
    "    ).join(\n",
    "        date_dim_df.alias(\"date_dim_df_pu\"),\n",
    "        to_date(green_trip_data_df[\"LPEP_PICKUP_DATETIME\"]) == col(\n",
    "            \"date_dim_df_pu.DATE\"),\n",
    "        \"inner\",\n",
    "    ).join(\n",
    "        date_dim_df.alias(\"date_dim_df_do\"),\n",
    "        to_date(green_trip_data_df[\"LPEP_DROPOFF_DATETIME\"]) == col(\n",
    "            \"date_dim_df_do.DATE\"),\n",
    "        \"inner\",\n",
    "    )\n",
    ")\n",
    "fact_green_trip_data_df.show(5)\n",
    "fact_green_trip_data_df.count()"
   ]
  },
  {
   "cell_type": "code",
   "execution_count": 31,
   "metadata": {},
   "outputs": [
    {
     "data": {
      "text/plain": [
       "0"
      ]
     },
     "execution_count": 31,
     "metadata": {},
     "output_type": "execute_result"
    }
   ],
   "source": [
    "from pyspark.sql.functions import col  # noqa: E402\n",
    "\n",
    "green_trip_data_df.where(col(\"TRIP_DISTANCE\").isNull()).count()"
   ]
  },
  {
   "cell_type": "code",
   "execution_count": null,
   "metadata": {},
   "outputs": [],
   "source": []
  }
 ],
 "metadata": {
  "kernelspec": {
   "display_name": "pyspark-environment",
   "language": "python",
   "name": "python3"
  },
  "language_info": {
   "codemirror_mode": {
    "name": "ipython",
    "version": 3
   },
   "file_extension": ".py",
   "mimetype": "text/x-python",
   "name": "python",
   "nbconvert_exporter": "python",
   "pygments_lexer": "ipython3",
   "version": "3.9.6"
  }
 },
 "nbformat": 4,
 "nbformat_minor": 2
}
